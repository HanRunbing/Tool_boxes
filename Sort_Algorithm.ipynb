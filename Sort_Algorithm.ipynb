{
  "nbformat": 4,
  "nbformat_minor": 0,
  "metadata": {
    "colab": {
      "name": "Sort Algorithm.ipynb",
      "provenance": [],
      "authorship_tag": "ABX9TyOMw5+P8XNONCbWvNUAqj7L",
      "include_colab_link": true
    },
    "kernelspec": {
      "name": "python3",
      "display_name": "Python 3"
    },
    "language_info": {
      "name": "python"
    }
  },
  "cells": [
    {
      "cell_type": "markdown",
      "metadata": {
        "id": "view-in-github",
        "colab_type": "text"
      },
      "source": [
        "<a href=\"https://colab.research.google.com/github/HanRunbing/Tool_boxes/blob/main/Sort_Algorithm.ipynb\" target=\"_parent\"><img src=\"https://colab.research.google.com/assets/colab-badge.svg\" alt=\"Open In Colab\"/></a>"
      ]
    },
    {
      "cell_type": "code",
      "metadata": {
        "id": "e_lqEpdSBGol"
      },
      "source": [
        "def swap(list, pos1, pos2):\n",
        "     \n",
        "    list[pos1], list[pos2] = list[pos2], list[pos1]\n",
        "    return list"
      ],
      "execution_count": null,
      "outputs": []
    },
    {
      "cell_type": "code",
      "metadata": {
        "id": "c2wY_nsL-9n6"
      },
      "source": [
        "def bubblesort(lis):\n",
        "  n = len(lis)\n",
        "  for i in range(n):\n",
        "    flag = False  # flag here is improve \n",
        "    for j in range(i+1,n):\n",
        "      if lis[j-1] > lis[j]:\n",
        "        flag = True\n",
        "        lis = swap(lis,j-1,j)\n",
        "    if flag = Flase:\n",
        "      return lis\n",
        "  return lis"
      ],
      "execution_count": null,
      "outputs": []
    },
    {
      "cell_type": "code",
      "metadata": {
        "colab": {
          "base_uri": "https://localhost:8080/"
        },
        "id": "RSYbnCJrBWX8",
        "outputId": "28c1c729-c0a5-4c72-b6d1-20ea940b2ac3"
      },
      "source": [
        "lis = bubblesort([5,1,4,2,3,6])\n",
        "lis"
      ],
      "execution_count": null,
      "outputs": [
        {
          "output_type": "execute_result",
          "data": {
            "text/plain": [
              "[1, 2, 3, 4, 5, 6]"
            ]
          },
          "metadata": {
            "tags": []
          },
          "execution_count": 10
        }
      ]
    },
    {
      "cell_type": "code",
      "metadata": {
        "id": "tiAeUXS0CgI9"
      },
      "source": [
        "def insertsort(lis):\n",
        "  n = len(lis)\n",
        "  for i in range(n):\n",
        "    cur= lis[i]\n",
        "    j = i-1\n",
        "    while 0<=j and cur < lis[j]:\n",
        "      lis[j+1] = lis[j]\n",
        "      j-=1\n",
        "    lis[j+1] = cur # 插入\n",
        "  return lis "
      ],
      "execution_count": null,
      "outputs": []
    },
    {
      "cell_type": "code",
      "metadata": {
        "colab": {
          "base_uri": "https://localhost:8080/"
        },
        "id": "tYF5c7oNHbH2",
        "outputId": "178802ed-d8ae-4c43-f5c6-54067c50cd8d"
      },
      "source": [
        "lis = insertsort([5,1,4,2,3,6])\n",
        "lis"
      ],
      "execution_count": null,
      "outputs": [
        {
          "output_type": "execute_result",
          "data": {
            "text/plain": [
              "[1, 2, 3, 4, 5, 6]"
            ]
          },
          "metadata": {
            "tags": []
          },
          "execution_count": 26
        }
      ]
    },
    {
      "cell_type": "code",
      "metadata": {
        "id": "0UTHNP2LQ8fK"
      },
      "source": [
        "def quick_sort(lis,left,right):\n",
        "  if left >= right: # recursion base\n",
        "    return \n",
        "  low, high = left, right # to keep the left and right point for partition\n",
        "  key = lis[left]\n",
        "  while left < right:\n",
        "    while left < right and key < lis[right]:\n",
        "      right -= 1\n",
        "    lis[left] = lis[right]\n",
        "    while left < right and key >= lis[left]:\n",
        "      left += 1\n",
        "    lis[right] = lis[left]\n",
        "  lis[left] = key\n",
        "  quick_sort(lis,low,left - 1)\n",
        "  quick_sort(lis,left + 1,high) "
      ],
      "execution_count": null,
      "outputs": []
    },
    {
      "cell_type": "code",
      "metadata": {
        "colab": {
          "base_uri": "https://localhost:8080/"
        },
        "id": "3AAYbPdNU6Du",
        "outputId": "7ab825f8-73f5-4815-ca73-649a60929b09"
      },
      "source": [
        "lis = [5,1,4,2,3,6]\n",
        "quick_sort(lis,0,5  )\n",
        "lis"
      ],
      "execution_count": null,
      "outputs": [
        {
          "output_type": "execute_result",
          "data": {
            "text/plain": [
              "[1, 2, 3, 4, 5, 6]"
            ]
          },
          "metadata": {
            "tags": []
          },
          "execution_count": 60
        }
      ]
    }
  ]
}