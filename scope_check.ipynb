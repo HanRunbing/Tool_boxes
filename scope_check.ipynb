{
  "nbformat": 4,
  "nbformat_minor": 0,
  "metadata": {
    "colab": {
      "name": "scope_check.ipynb",
      "provenance": [],
      "include_colab_link": true
    },
    "kernelspec": {
      "name": "python3",
      "display_name": "Python 3"
    },
    "language_info": {
      "name": "python"
    }
  },
  "cells": [
    {
      "cell_type": "markdown",
      "metadata": {
        "id": "view-in-github",
        "colab_type": "text"
      },
      "source": [
        "<a href=\"https://colab.research.google.com/github/HanRunbing/Tool_boxes/blob/main/scope_check.ipynb\" target=\"_parent\"><img src=\"https://colab.research.google.com/assets/colab-badge.svg\" alt=\"Open In Colab\"/></a>"
      ]
    },
    {
      "cell_type": "markdown",
      "source": [
        "![Scope-in-Python8.png.png](data:image/png;base64,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)"
      ],
      "metadata": {
        "id": "lNDqAdktSqSu"
      }
    },
    {
      "cell_type": "markdown",
      "source": [
        "# Local scope"
      ],
      "metadata": {
        "id": "GgEUAs23RTrP"
      }
    },
    {
      "cell_type": "code",
      "execution_count": null,
      "metadata": {
        "colab": {
          "base_uri": "https://localhost:8080/"
        },
        "id": "PsbSXYdQQvB4",
        "outputId": "774fd86a-148f-491f-85b2-f6cda3e76200"
      },
      "outputs": [
        {
          "output_type": "stream",
          "name": "stdout",
          "text": [
            "1\n"
          ]
        }
      ],
      "source": [
        "num = 0\n",
        "def demo():\n",
        "  num = 1\n",
        "  print(num)\n",
        "demo()"
      ]
    },
    {
      "cell_type": "code",
      "source": [
        "num = 0\n",
        "def demo():\n",
        "  print(num)\n",
        "  num = 1\n",
        "demo()"
      ],
      "metadata": {
        "colab": {
          "base_uri": "https://localhost:8080/",
          "height": 321
        },
        "id": "w60OpFylRCXv",
        "outputId": "10aa98e8-bd02-4557-d475-c93b4e4e7aa5"
      },
      "execution_count": null,
      "outputs": [
        {
          "output_type": "error",
          "ename": "UnboundLocalError",
          "evalue": "ignored",
          "traceback": [
            "\u001b[0;31m---------------------------------------------------------------------------\u001b[0m",
            "\u001b[0;31mUnboundLocalError\u001b[0m                         Traceback (most recent call last)",
            "\u001b[0;32m<ipython-input-4-0d7f00f862b9>\u001b[0m in \u001b[0;36m<module>\u001b[0;34m()\u001b[0m\n\u001b[1;32m      3\u001b[0m   \u001b[0mprint\u001b[0m\u001b[0;34m(\u001b[0m\u001b[0mnum\u001b[0m\u001b[0;34m)\u001b[0m\u001b[0;34m\u001b[0m\u001b[0;34m\u001b[0m\u001b[0m\n\u001b[1;32m      4\u001b[0m   \u001b[0mnum\u001b[0m \u001b[0;34m=\u001b[0m \u001b[0;36m1\u001b[0m\u001b[0;34m\u001b[0m\u001b[0;34m\u001b[0m\u001b[0m\n\u001b[0;32m----> 5\u001b[0;31m \u001b[0mdemo\u001b[0m\u001b[0;34m(\u001b[0m\u001b[0;34m)\u001b[0m\u001b[0;34m\u001b[0m\u001b[0;34m\u001b[0m\u001b[0m\n\u001b[0m",
            "\u001b[0;32m<ipython-input-4-0d7f00f862b9>\u001b[0m in \u001b[0;36mdemo\u001b[0;34m()\u001b[0m\n\u001b[1;32m      1\u001b[0m \u001b[0mnum\u001b[0m \u001b[0;34m=\u001b[0m \u001b[0;36m0\u001b[0m\u001b[0;34m\u001b[0m\u001b[0;34m\u001b[0m\u001b[0m\n\u001b[1;32m      2\u001b[0m \u001b[0;32mdef\u001b[0m \u001b[0mdemo\u001b[0m\u001b[0;34m(\u001b[0m\u001b[0;34m)\u001b[0m\u001b[0;34m:\u001b[0m\u001b[0;34m\u001b[0m\u001b[0;34m\u001b[0m\u001b[0m\n\u001b[0;32m----> 3\u001b[0;31m   \u001b[0mprint\u001b[0m\u001b[0;34m(\u001b[0m\u001b[0mnum\u001b[0m\u001b[0;34m)\u001b[0m\u001b[0;34m\u001b[0m\u001b[0;34m\u001b[0m\u001b[0m\n\u001b[0m\u001b[1;32m      4\u001b[0m   \u001b[0mnum\u001b[0m \u001b[0;34m=\u001b[0m \u001b[0;36m1\u001b[0m\u001b[0;34m\u001b[0m\u001b[0;34m\u001b[0m\u001b[0m\n\u001b[1;32m      5\u001b[0m \u001b[0mdemo\u001b[0m\u001b[0;34m(\u001b[0m\u001b[0;34m)\u001b[0m\u001b[0;34m\u001b[0m\u001b[0;34m\u001b[0m\u001b[0m\n",
            "\u001b[0;31mUnboundLocalError\u001b[0m: local variable 'num' referenced before assignment"
          ]
        }
      ]
    },
    {
      "cell_type": "markdown",
      "source": [
        "# Global Scope"
      ],
      "metadata": {
        "id": "C2IEZamzRZbm"
      }
    },
    {
      "cell_type": "code",
      "source": [
        "def demo():\n",
        "  print(s)\n",
        "s = 'hi'\n",
        "demo()\n"
      ],
      "metadata": {
        "colab": {
          "base_uri": "https://localhost:8080/"
        },
        "id": "ARr7Q3zNRcS-",
        "outputId": "cb19d2ec-1b6c-450a-9334-ff7561fdddbc"
      },
      "execution_count": null,
      "outputs": [
        {
          "output_type": "stream",
          "name": "stdout",
          "text": [
            "hi\n"
          ]
        }
      ]
    },
    {
      "cell_type": "code",
      "source": [
        "def demo():\n",
        "  print(Str)\n",
        "  Str = \"You are smart\"\n",
        "# Global scope\n",
        "Str = \"You are Clever\"\n",
        "demo()"
      ],
      "metadata": {
        "colab": {
          "base_uri": "https://localhost:8080/",
          "height": 339
        },
        "id": "FIS0xIA0RmXc",
        "outputId": "90547a45-0381-435c-e2c4-c845d4751add"
      },
      "execution_count": null,
      "outputs": [
        {
          "output_type": "error",
          "ename": "UnboundLocalError",
          "evalue": "ignored",
          "traceback": [
            "\u001b[0;31m---------------------------------------------------------------------------\u001b[0m",
            "\u001b[0;31mUnboundLocalError\u001b[0m                         Traceback (most recent call last)",
            "\u001b[0;32m<ipython-input-9-20ae284c2461>\u001b[0m in \u001b[0;36m<module>\u001b[0;34m()\u001b[0m\n\u001b[1;32m      5\u001b[0m \u001b[0;31m# Global scope\u001b[0m\u001b[0;34m\u001b[0m\u001b[0;34m\u001b[0m\u001b[0;34m\u001b[0m\u001b[0m\n\u001b[1;32m      6\u001b[0m \u001b[0mStr\u001b[0m \u001b[0;34m=\u001b[0m \u001b[0;34m\"You are Clever\"\u001b[0m\u001b[0;34m\u001b[0m\u001b[0;34m\u001b[0m\u001b[0m\n\u001b[0;32m----> 7\u001b[0;31m \u001b[0mdemo\u001b[0m\u001b[0;34m(\u001b[0m\u001b[0;34m)\u001b[0m\u001b[0;34m\u001b[0m\u001b[0;34m\u001b[0m\u001b[0m\n\u001b[0m\u001b[1;32m      8\u001b[0m \u001b[0mprint\u001b[0m\u001b[0;34m(\u001b[0m\u001b[0mStr\u001b[0m\u001b[0;34m)\u001b[0m\u001b[0;34m\u001b[0m\u001b[0;34m\u001b[0m\u001b[0m\n",
            "\u001b[0;32m<ipython-input-9-20ae284c2461>\u001b[0m in \u001b[0;36mdemo\u001b[0;34m()\u001b[0m\n\u001b[1;32m      1\u001b[0m \u001b[0;32mdef\u001b[0m \u001b[0mdemo\u001b[0m\u001b[0;34m(\u001b[0m\u001b[0;34m)\u001b[0m\u001b[0;34m:\u001b[0m\u001b[0;34m\u001b[0m\u001b[0;34m\u001b[0m\u001b[0m\n\u001b[0;32m----> 2\u001b[0;31m   \u001b[0mprint\u001b[0m\u001b[0;34m(\u001b[0m\u001b[0mStr\u001b[0m\u001b[0;34m)\u001b[0m\u001b[0;34m\u001b[0m\u001b[0;34m\u001b[0m\u001b[0m\n\u001b[0m\u001b[1;32m      3\u001b[0m   \u001b[0mStr\u001b[0m \u001b[0;34m=\u001b[0m \u001b[0;34m\"You are smart\"\u001b[0m\u001b[0;34m\u001b[0m\u001b[0;34m\u001b[0m\u001b[0m\n\u001b[1;32m      4\u001b[0m   \u001b[0;31m# print(Str)\u001b[0m\u001b[0;34m\u001b[0m\u001b[0;34m\u001b[0m\u001b[0;34m\u001b[0m\u001b[0m\n\u001b[1;32m      5\u001b[0m \u001b[0;31m# Global scope\u001b[0m\u001b[0;34m\u001b[0m\u001b[0;34m\u001b[0m\u001b[0;34m\u001b[0m\u001b[0m\n",
            "\u001b[0;31mUnboundLocalError\u001b[0m: local variable 'Str' referenced before assignment"
          ]
        }
      ]
    },
    {
      "cell_type": "code",
      "source": [
        "def demo():\n",
        "  global Str\n",
        "  print(Str)\n",
        "  Str = \"You are smart\"\n",
        "# Global scope\n",
        "Str = \"You are Clever\"\n",
        "demo()"
      ],
      "metadata": {
        "colab": {
          "base_uri": "https://localhost:8080/"
        },
        "id": "0oXVgq6SR-DT",
        "outputId": "a821d0fa-cb15-4a60-a2c7-17470450e5cc"
      },
      "execution_count": null,
      "outputs": [
        {
          "output_type": "stream",
          "name": "stdout",
          "text": [
            "You are Clever\n"
          ]
        }
      ]
    },
    {
      "cell_type": "markdown",
      "source": [
        "# Nonlocal and enclosing scope"
      ],
      "metadata": {
        "id": "0UwFFj15Sjfx"
      }
    },
    {
      "cell_type": "code",
      "source": [
        "x = 'global'\n",
        "def func_outer():\n",
        "  x = \"local\"\n",
        "  def func_inner():\n",
        "    nonlocal x  # let x up to one scope\n",
        "    x = \"nonlocal\"\n",
        "    print(\"inner:\", x)\n",
        "  func_inner()\n",
        "  print(\"outer:\", x)\n",
        "func_outer()\n",
        "print(\"global:\", x)"
      ],
      "metadata": {
        "colab": {
          "base_uri": "https://localhost:8080/"
        },
        "id": "Wymdyyx2S5_E",
        "outputId": "c6c1fa6a-5c9e-4a98-ecee-615fb78bfb7d"
      },
      "execution_count": null,
      "outputs": [
        {
          "output_type": "stream",
          "name": "stdout",
          "text": [
            "inner: nonlocal\n",
            "outer: nonlocal\n",
            "global: global\n"
          ]
        }
      ]
    },
    {
      "cell_type": "markdown",
      "source": [
        "# built-in"
      ],
      "metadata": {
        "id": "SN4ZfJQgThkP"
      }
    },
    {
      "cell_type": "code",
      "source": [
        "# Built-in Scope\n",
        "from math import pi\n",
        "# pi = 'Not defined in global pi'\n",
        "def func_outer():\n",
        "# pi = 'Not defined in outer pi'\n",
        "  def inner():\n",
        "# pi = 'not defined in inner pi'\n",
        "    print(pi)\n",
        "  inner()\n",
        "func_outer()"
      ],
      "metadata": {
        "colab": {
          "base_uri": "https://localhost:8080/"
        },
        "id": "nCusQU-ZS-CO",
        "outputId": "b75317dc-abc3-4049-a870-07c762596814"
      },
      "execution_count": null,
      "outputs": [
        {
          "output_type": "stream",
          "name": "stdout",
          "text": [
            "3.141592653589793\n"
          ]
        }
      ]
    },
    {
      "cell_type": "code",
      "source": [
        ""
      ],
      "metadata": {
        "id": "-Zx9iRikTn0D"
      },
      "execution_count": null,
      "outputs": []
    }
  ]
}