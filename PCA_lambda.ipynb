{
  "nbformat": 4,
  "nbformat_minor": 0,
  "metadata": {
    "colab": {
      "name": "PCA_lambda.ipynb",
      "provenance": [],
      "authorship_tag": "ABX9TyO+JUHBixSCREXAsTV3+5Zv",
      "include_colab_link": true
    },
    "kernelspec": {
      "name": "python3",
      "display_name": "Python 3"
    },
    "language_info": {
      "name": "python"
    }
  },
  "cells": [
    {
      "cell_type": "markdown",
      "metadata": {
        "id": "view-in-github",
        "colab_type": "text"
      },
      "source": [
        "<a href=\"https://colab.research.google.com/github/HanRunbing/Tool_boxes/blob/main/PCA_lambda.ipynb\" target=\"_parent\"><img src=\"https://colab.research.google.com/assets/colab-badge.svg\" alt=\"Open In Colab\"/></a>"
      ]
    },
    {
      "cell_type": "code",
      "execution_count": null,
      "metadata": {
        "id": "9CKUO692Mo8X"
      },
      "outputs": [],
      "source": [
        "#Importing required libraries\n",
        "import numpy as np\n",
        "import matplotlib.pyplot as plt "
      ]
    },
    {
      "cell_type": "markdown",
      "source": [
        "# PCA test"
      ],
      "metadata": {
        "id": "2lzHh-zDXn92"
      }
    },
    {
      "cell_type": "code",
      "source": [
        "#Generate a dummy dataset.\n",
        "X = np.random.randint(10,50,40).reshape(20,2) \n",
        "# mean Centering the data  \n",
        "X_meaned = X - np.mean(X , axis = 0)\n",
        "for x,y in X_meaned:\n",
        "  plt.scatter(x,y,c= 'r')"
      ],
      "metadata": {
        "colab": {
          "base_uri": "https://localhost:8080/",
          "height": 265
        },
        "id": "JA3KEvilNHV5",
        "outputId": "77b63c99-2ba0-48fe-b472-ebbd10aea7f8"
      },
      "execution_count": null,
      "outputs": [
        {
          "output_type": "display_data",
          "data": {
            "text/plain": [
              "<Figure size 432x288 with 1 Axes>"
            ],
            "image/png": "[encoded data removed]"
          },
          "metadata": {
            "needs_background": "light"
          }
        }
      ]
    },
    {
      "cell_type": "code",
      "source": [
        "# calculating the covariance matrix of the mean-centered data.\n",
        "cov_mat = np.cov(X_meaned , rowvar = False)"
      ],
      "metadata": {
        "id": "Q4w9hxCYNRuN"
      },
      "execution_count": null,
      "outputs": []
    },
    {
      "cell_type": "code",
      "source": [
        "#Calculating Eigenvalues and Eigenvectors of the covariance matrix\n",
        "eigen_values , eigen_vectors = np.linalg.eigh(cov_mat)"
      ],
      "metadata": {
        "id": "HLTLGWgsNXhy"
      },
      "execution_count": null,
      "outputs": []
    },
    {
      "cell_type": "code",
      "source": [
        "#sort the eigenvalues in descending order\n",
        "sorted_index = np.argsort(eigen_values)[::-1]\n",
        " \n",
        "sorted_eigenvalue = eigen_values[sorted_index]\n",
        "#similarly sort the eigenvectors \n",
        "sorted_eigenvectors = eigen_vectors[:,sorted_index]"
      ],
      "metadata": {
        "id": "eVUEM9cBNYPT"
      },
      "execution_count": null,
      "outputs": []
    },
    {
      "cell_type": "code",
      "source": [
        "# select the first n eigenvectors, n is desired dimension\n",
        "# of our final reduced data.\n",
        " \n",
        "n_components = 1 #you can select any number of components.\n",
        "eigenvector_subset = sorted_eigenvectors[:,0:n_components]"
      ],
      "metadata": {
        "id": "mWmKdBTqNadq"
      },
      "execution_count": null,
      "outputs": []
    },
    {
      "cell_type": "code",
      "source": [
        "#Transform the data \n",
        "X_reduced = np.dot(eigenvector_subset.transpose(),X_meaned.transpose()).transpose()\n",
        "X_reduced[1:5]"
      ],
      "metadata": {
        "colab": {
          "base_uri": "https://localhost:8080/"
        },
        "id": "juQ-YJk4NcWC",
        "outputId": "9cf1c4fb-0196-40f3-9c02-6f324f96759d"
      },
      "execution_count": null,
      "outputs": [
        {
          "output_type": "execute_result",
          "data": {
            "text/plain": [
              "array([[ 4.61391213],\n",
              "       [-8.41544773],\n",
              "       [-9.24427868],\n",
              "       [ 6.8385764 ]])"
            ]
          },
          "metadata": {},
          "execution_count": 68
        }
      ]
    },
    {
      "cell_type": "code",
      "source": [
        "for x,y in X_meaned:\n",
        "  plt.scatter(x,y,c= 'r')\n",
        "for i in X_reduced:\n",
        "  plt.scatter(eigenvector_subset[0]*i,eigenvector_subset[1]*i,c = 'b')\n",
        "plt.xlim([-20,20])\n",
        "plt.ylim([-20,20])\n",
        "plt.title('original dataset')"
      ],
      "metadata": {
        "colab": {
          "base_uri": "https://localhost:8080/",
          "height": 299
        },
        "id": "y3aXT525N5AQ",
        "outputId": "63906947-6caf-49bc-b6f3-51a894e14110"
      },
      "execution_count": null,
      "outputs": [
        {
          "output_type": "execute_result",
          "data": {
            "text/plain": [
              "Text(0.5, 1.0, 'original dataset')"
            ]
          },
          "metadata": {},
          "execution_count": 98
        },
        {
          "output_type": "display_data",
          "data": {
            "text/plain": [
              "<Figure size 432x288 with 1 Axes>"
            ],
            "image/png": "[encoded data removed]"
          },
          "metadata": {
            "needs_background": "light"
          }
        }
      ]
    },
    {
      "cell_type": "code",
      "source": [
        "def PCA(X , num_components):\n",
        "     \n",
        "    #Step-1\n",
        "    X_meaned = X - np.mean(X , axis = 0)\n",
        "     \n",
        "    #Step-2\n",
        "    cov_mat = np.cov(X_meaned , rowvar = False)\n",
        "     \n",
        "    #Step-3\n",
        "    eigen_values , eigen_vectors = np.linalg.eigh(cov_mat)\n",
        "     \n",
        "    #Step-4\n",
        "    sorted_index = np.argsort(eigen_values)[::-1]\n",
        "    sorted_eigenvalue = eigen_values[sorted_index]\n",
        "    sorted_eigenvectors = eigen_vectors[:,sorted_index]\n",
        "     \n",
        "    #Step-5\n",
        "    eigenvector_subset = sorted_eigenvectors[:,0:num_components]\n",
        "     \n",
        "    #Step-6\n",
        "    X_reduced = np.dot(eigenvector_subset.transpose() , X_meaned.transpose() ).transpose()\n",
        "     \n",
        "    return X_reduced,eigenvector_subset"
      ],
      "metadata": {
        "id": "yQxLfqUTXJyW"
      },
      "execution_count": null,
      "outputs": []
    },
    {
      "cell_type": "markdown",
      "source": [
        "# Test with Lambda"
      ],
      "metadata": {
        "id": "JUov0TqeXq7A"
      }
    },
    {
      "cell_type": "markdown",
      "source": [
        "## lambda = 0.5"
      ],
      "metadata": {
        "id": "hLIlSi6WXvnN"
      }
    },
    {
      "cell_type": "markdown",
      "source": [
        "Create a new array N, first dimention is own expression, scale with sqrt(1 -lam), second dimention is neightborhood expression,scale with sqrt(lam)"
      ],
      "metadata": {
        "id": "dzSDqXzxX84_"
      }
    },
    {
      "cell_type": "code",
      "source": [
        "# apply lambda. first dimention is own expression\n",
        "lam = 0.5\n",
        "N = np.zeros((20,2))\n",
        "N[:,0]= np.sqrt(1 -lam) * X_meaned[:,0]\n",
        "N[:,1]= np.sqrt(lam) * X_meaned[:,1]\n",
        "for x,y in N:\n",
        "  plt.scatter(x,y,c= 'r')\n",
        "plt.xlim([-20,20])\n",
        "plt.ylim([-20,20])\n",
        "plt.title('lambda = 0.5')"
      ],
      "metadata": {
        "colab": {
          "base_uri": "https://localhost:8080/",
          "height": 299
        },
        "id": "XOwjTWsWN4mR",
        "outputId": "ad60f443-522e-4c0e-ffc1-31b607caffd7"
      },
      "execution_count": null,
      "outputs": [
        {
          "output_type": "execute_result",
          "data": {
            "text/plain": [
              "Text(0.5, 1.0, 'lambda = 0.5')"
            ]
          },
          "metadata": {},
          "execution_count": 95
        },
        {
          "output_type": "display_data",
          "data": {
            "text/plain": [
              "<Figure size 432x288 with 1 Axes>"
            ],
            "image/png": "[encoded data removed]"
          },
          "metadata": {
            "needs_background": "light"
          }
        }
      ]
    },
    {
      "cell_type": "markdown",
      "source": [
        "Looks pretty much like the orignal pca result"
      ],
      "metadata": {
        "id": "lTKtIQBJXy3l"
      }
    },
    {
      "cell_type": "code",
      "source": [
        "N_reduced,eigenvector_subset = PCA(N , 1)\n",
        "for x,y in N:\n",
        "  plt.scatter(x,y,c= 'r')\n",
        "N_reduced = np.dot(eigenvector_subset.transpose(),N.transpose()).transpose()\n",
        "for i in N_reduced:\n",
        "  plt.scatter(eigenvector_subset[0]*i,eigenvector_subset[1]*i,c = 'b')\n",
        "plt.xlim([-20,20])\n",
        "plt.ylim([-20,20])\n",
        "plt.title('lambda = 0.5')"
      ],
      "metadata": {
        "colab": {
          "base_uri": "https://localhost:8080/",
          "height": 299
        },
        "id": "N-mkT3_VVGiW",
        "outputId": "0b6f03f4-ff7b-43db-ea2a-d3e17d9f7749"
      },
      "execution_count": null,
      "outputs": [
        {
          "output_type": "execute_result",
          "data": {
            "text/plain": [
              "Text(0.5, 1.0, 'lambda = 0.5')"
            ]
          },
          "metadata": {},
          "execution_count": 105
        },
        {
          "output_type": "display_data",
          "data": {
            "text/plain": [
              "<Figure size 432x288 with 1 Axes>"
            ],
            "image/png": "[encoded data removed]"
          },
          "metadata": {
            "needs_background": "light"
          }
        }
      ]
    },
    {
      "cell_type": "markdown",
      "source": [
        "## Lambda = 0.1"
      ],
      "metadata": {
        "id": "WkrHJX8VY0x5"
      }
    },
    {
      "cell_type": "markdown",
      "source": [
        "When lambda = 0.1,  PCA result (eigenvector) is mainly dominated by first dimention(own exp)"
      ],
      "metadata": {
        "id": "nBx2pZOaYOjB"
      }
    },
    {
      "cell_type": "code",
      "source": [
        "# apply lambda. first dimention is own expression\n",
        "lam = 0.1\n",
        "N = np.zeros((20,2))\n",
        "N[:,0]= np.sqrt(1 -lam) * X_meaned[:,0]\n",
        "N[:,1]= np.sqrt(lam) * X_meaned[:,1]\n",
        "N_reduced,eigenvector_subset = PCA(N , 1)\n",
        "for x,y in N:\n",
        "  plt.scatter(x,y,c= 'r')\n",
        "for i in N_reduced:\n",
        "  plt.scatter(eigenvector_subset[0]*i,eigenvector_subset[1]*i,c = 'b')\n",
        "plt.xlim([-20,20])\n",
        "plt.ylim([-20,20])\n",
        "plt.title('lambda = 0.1')"
      ],
      "metadata": {
        "colab": {
          "base_uri": "https://localhost:8080/",
          "height": 299
        },
        "id": "pR0nBjK9WsSV",
        "outputId": "556d9004-4734-4306-efd6-9edb5234c46b"
      },
      "execution_count": null,
      "outputs": [
        {
          "output_type": "execute_result",
          "data": {
            "text/plain": [
              "Text(0.5, 1.0, 'lambda = 0.1')"
            ]
          },
          "metadata": {},
          "execution_count": 107
        },
        {
          "output_type": "display_data",
          "data": {
            "text/plain": [
              "<Figure size 432x288 with 1 Axes>"
            ],
            "image/png": "[encoded data removed]"
          },
          "metadata": {
            "needs_background": "light"
          }
        }
      ]
    },
    {
      "cell_type": "markdown",
      "source": [
        "## Lambda = 0.9"
      ],
      "metadata": {
        "id": "VzTTcUR2Y4HX"
      }
    },
    {
      "cell_type": "markdown",
      "source": [
        "When lambda = 0.9, PCA result (eigenvector) is mainly dominated by second dimention(neighborhood exp)"
      ],
      "metadata": {
        "id": "rrGl45saYh-O"
      }
    },
    {
      "cell_type": "code",
      "source": [
        "# apply lambda. first dimention is own expression\n",
        "lam = 0.9\n",
        "N = np.zeros((20,2))\n",
        "N[:,0]= np.sqrt(1 -lam) * X_meaned[:,0]\n",
        "N[:,1]= np.sqrt(lam) * X_meaned[:,1]\n",
        "N_reduced,eigenvector_subset = PCA(N , 1)\n",
        "for x,y in N:\n",
        "  plt.scatter(x,y,c= 'r')\n",
        "for i in N_reduced:\n",
        "  plt.scatter(eigenvector_subset[0]*i,eigenvector_subset[1]*i,c = 'b')\n",
        "plt.xlim([-20,20])\n",
        "plt.ylim([-20,20])\n",
        "plt.title('lambda = 0.1')"
      ],
      "metadata": {
        "colab": {
          "base_uri": "https://localhost:8080/",
          "height": 299
        },
        "id": "tn_hxNzmWxwE",
        "outputId": "31617f01-ba0c-470f-976d-396b9a6f5e14"
      },
      "execution_count": null,
      "outputs": [
        {
          "output_type": "execute_result",
          "data": {
            "text/plain": [
              "Text(0.5, 1.0, 'lambda = 0.1')"
            ]
          },
          "metadata": {},
          "execution_count": 108
        },
        {
          "output_type": "display_data",
          "data": {
            "text/plain": [
              "<Figure size 432x288 with 1 Axes>"
            ],
            "image/png": "[encoded data removed]"
          },
          "metadata": {
            "needs_background": "light"
          }
        }
      ]
    },
    {
      "cell_type": "code",
      "source": [
        ""
      ],
      "metadata": {
        "id": "Zlh7noNMWGkd"
      },
      "execution_count": null,
      "outputs": []
    }
  ]
}