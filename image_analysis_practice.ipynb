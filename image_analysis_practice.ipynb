{
  "nbformat": 4,
  "nbformat_minor": 0,
  "metadata": {
    "colab": {
      "name": "image_analysis_practice.ipynb",
      "provenance": [],
      "toc_visible": true,
      "include_colab_link": true
    },
    "kernelspec": {
      "name": "python3",
      "display_name": "Python 3"
    },
    "language_info": {
      "name": "python"
    }
  },
  "cells": [
    {
      "cell_type": "markdown",
      "metadata": {
        "id": "view-in-github",
        "colab_type": "text"
      },
      "source": [
        "<a href=\"https://colab.research.google.com/github/HanRunbing/Tool_boxes/blob/main/image_analysis_practice.ipynb\" target=\"_parent\"><img src=\"https://colab.research.google.com/assets/colab-badge.svg\" alt=\"Open In Colab\"/></a>"
      ]
    },
    {
      "cell_type": "code",
      "execution_count": null,
      "metadata": {
        "id": "6qzd_SSf9QiX"
      },
      "outputs": [],
      "source": [
        "import cv2\n",
        "import numpy as np\n",
        "from matplotlib import pyplot as plt\n",
        "from skimage import io"
      ]
    },
    {
      "cell_type": "code",
      "source": [
        "dapi = io.imread(\"/content/drive/MyDrive/coding_practise/image_analysis/dapi.tif\")\n",
        "membrane= io.imread(\"/content/drive/MyDrive/coding_practise/image_analysis/membrane.tif\")\n",
        "print(dapi.shape)\n",
        "print(membrane.shape)"
      ],
      "metadata": {
        "id": "_gUQjTIz9fkg",
        "colab": {
          "base_uri": "https://localhost:8080/"
        },
        "outputId": "e3b17928-933b-4583-9151-911a3a6f12d6"
      },
      "execution_count": null,
      "outputs": [
        {
          "output_type": "stream",
          "name": "stderr",
          "text": [
            "<tifffile.TiffFile 'dapi.tif'> OME series is BinaryOnly, not an OME-TIFF master file \n",
            "<tifffile.TiffFile 'membrane.tif'> OME series is BinaryOnly, not an OME-TIFF master file \n"
          ]
        },
        {
          "output_type": "stream",
          "name": "stdout",
          "text": [
            "(5, 2960, 2960)\n",
            "(5, 2960, 2960, 4)\n"
          ]
        }
      ]
    },
    {
      "cell_type": "markdown",
      "source": [
        "# Normalization & MIP"
      ],
      "metadata": {
        "id": "55oQIICz-La4"
      }
    },
    {
      "cell_type": "markdown",
      "source": [
        "For np.array.max is to find the max indensity for each pixel across all Zs."
      ],
      "metadata": {
        "id": "_lEPNkUAANNz"
      }
    },
    {
      "cell_type": "code",
      "source": [
        "demo0 = np.array([[0,1,2,3],[10,2,8,4],[2,3,4,5]])\n",
        "demo0_max =  demo0.max(axis = 0)\n",
        "demo0_max"
      ],
      "metadata": {
        "colab": {
          "base_uri": "https://localhost:8080/"
        },
        "id": "RQwzT3n--qbq",
        "outputId": "c6c91ebd-5bb9-41e5-fd48-b45e3becf835"
      },
      "execution_count": null,
      "outputs": [
        {
          "output_type": "execute_result",
          "data": {
            "text/plain": [
              "array([10,  3,  8,  5])"
            ]
          },
          "metadata": {},
          "execution_count": 22
        }
      ]
    },
    {
      "cell_type": "markdown",
      "source": [
        "For np.quantile is to return value of 0.01 position and ... even the value is not in the array "
      ],
      "metadata": {
        "id": "mhS8ScQBA5rJ"
      }
    },
    {
      "cell_type": "code",
      "source": [
        "np.quantile(demo0_max, [0.01, 0.99])\n"
      ],
      "metadata": {
        "colab": {
          "base_uri": "https://localhost:8080/"
        },
        "id": "dlWiJZWG-Cld",
        "outputId": "d8683767-2e79-44cc-9195-1f0275dc1324"
      },
      "execution_count": null,
      "outputs": [
        {
          "output_type": "execute_result",
          "data": {
            "text/plain": [
              "array([3.06, 9.94])"
            ]
          },
          "metadata": {},
          "execution_count": 24
        }
      ]
    },
    {
      "cell_type": "markdown",
      "source": [
        "min max mormalization "
      ],
      "metadata": {
        "id": "j6gVaG1_C08X"
      }
    },
    {
      "cell_type": "code",
      "source": [
        "lower, upper = np.quantile(demo0_max, [0.01, 0.99])\n",
        "demo0_normal = (demo0_max - lower)/upper\n",
        "demo0_normal"
      ],
      "metadata": {
        "colab": {
          "base_uri": "https://localhost:8080/"
        },
        "id": "Wf-dzkpLCNK_",
        "outputId": "758b99ac-9df9-44ab-953f-085cb5c73e1a"
      },
      "execution_count": null,
      "outputs": [
        {
          "output_type": "execute_result",
          "data": {
            "text/plain": [
              "array([ 1.00872093, -0.00872093,  0.71802326,  0.28197674])"
            ]
          },
          "metadata": {},
          "execution_count": 27
        }
      ]
    },
    {
      "cell_type": "markdown",
      "source": [
        "Thus for normalize and MIP dapi:"
      ],
      "metadata": {
        "id": "Q9vp7AZXBSrC"
      }
    },
    {
      "cell_type": "code",
      "source": [
        "# get the max value across all Zs, the output may not come from the same z\n",
        "d = dapi.max(axis = 0)  \n",
        "# return the low 1% and high intensity 99%\n",
        "lower, upper = np.quantile(d, [0.01, 0.99])\n",
        "# normalize:\n",
        "d = (d - lower)/upper\n",
        "d_normalized = d \n",
        "d_normalized.shape"
      ],
      "metadata": {
        "colab": {
          "base_uri": "https://localhost:8080/"
        },
        "id": "vM1kihd8BNUd",
        "outputId": "b83bbd3b-148c-4628-96ad-f66ab8a5894d"
      },
      "execution_count": null,
      "outputs": [
        {
          "output_type": "execute_result",
          "data": {
            "text/plain": [
              "(2960, 2960)"
            ]
          },
          "metadata": {},
          "execution_count": 29
        }
      ]
    },
    {
      "cell_type": "code",
      "source": [
        "m_normalized = []\n",
        "for i in range(3): \n",
        "  # process normalizaiton for each channels\n",
        "    m = membrane[:,:,:,i].max(axis = 0) # i+ 1 for first channel is emply\n",
        "    lower, upper = np.quantile(m, [0.01, 0.99])\n",
        "    m = (m - lower)/upper\n",
        "    m_normalized.append(m)\n",
        "# normalization are done for each channel separatly, stack baxk to 3 channels\n",
        "m_normalized = np.stack(m_normalized) \n",
        "m_normalized.shape"
      ],
      "metadata": {
        "colab": {
          "base_uri": "https://localhost:8080/"
        },
        "id": "6du5gTRmC-wp",
        "outputId": "4e40631c-2d21-4e8d-e08a-531b94993042"
      },
      "execution_count": null,
      "outputs": [
        {
          "output_type": "execute_result",
          "data": {
            "text/plain": [
              "(3, 2960, 2960)"
            ]
          },
          "metadata": {},
          "execution_count": 32
        }
      ]
    },
    {
      "cell_type": "markdown",
      "source": [
        "# Path operation"
      ],
      "metadata": {
        "id": "x85iirRxFXOn"
      }
    },
    {
      "cell_type": "markdown",
      "source": [
        "Grap all files in the folder with certain type and replace its name ot switch to another type"
      ],
      "metadata": {
        "id": "ZPqRPgZQFbfk"
      }
    },
    {
      "cell_type": "code",
      "source": [
        "xs = []\n",
        "pos_t = []\n",
        "# with glob to get the filenames, * to match everthing\n",
        "for dapi_path in glob.glob(\"../Segmentation_test/1208_anti_spot_9/DAPI/*.tif\"):\n",
        "  #   replace the name with replace\n",
        "    membrane_path = dapi_path.replace('DAPI', 'membrane').replace('STAIN', 'hyb10')\n",
        "  # get the specific name of file \n",
        "    pos = os.path.basename(dapi_path).split('.ome')[0].split('Pos')[-1]\n",
        "\n",
        "    # load data\n",
        "    dapi = io.imread(dapi_path)\n",
        "    dapi = np.stack([np.stack(cv2.resize(dapi[i,:,:], (512,512))) for i in range(5)])\n",
        "    membrane= io.imread(membrane_path)\n",
        "    membrane = np.stack([np.stack(cv2.resize(membrane[i,:,:], (512,512))) for i in range(20)])\n",
        "    membrane = membrane.reshape(20, 512, 512).reshape(4, 5, 512, 512) \n",
        "    \n",
        "    merged = mergeGen(membrane,dapi)\n",
        "    \n",
        "    xs.append(merged)\n",
        "    pos_t.append(pos)\n",
        "    \n",
        "xs = np.stack(xs)"
      ],
      "metadata": {
        "id": "Syw_t8EeFVxV"
      },
      "execution_count": null,
      "outputs": []
    },
    {
      "cell_type": "code",
      "source": [
        "list0 = range(3,8)\n",
        "for i, x in enumerate(list0):\n",
        "  print(i,x)"
      ],
      "metadata": {
        "colab": {
          "base_uri": "https://localhost:8080/"
        },
        "id": "uXVEAjZVDksC",
        "outputId": "23975a29-e479-4f8c-b5c9-28208a07847d"
      },
      "execution_count": null,
      "outputs": [
        {
          "output_type": "stream",
          "name": "stdout",
          "text": [
            "0 3\n",
            "1 4\n",
            "2 5\n",
            "3 6\n",
            "4 7\n"
          ]
        }
      ]
    },
    {
      "cell_type": "markdown",
      "source": [
        "# Plot template"
      ],
      "metadata": {
        "id": "zmB6OSEh-aU5"
      }
    },
    {
      "cell_type": "code",
      "source": [
        "fig, ax = plt.subplots(1, 3, figsize = (15, 5))\n",
        "\n",
        "img = viz_mip_membrane_dapi.copy()\n",
        "ax[0].imshow(img)\n",
        "ax[0].set_title('r = hyb, g = mem, b = dapi')\n",
        "\n",
        "img = viz_mip_hyb_dapi.copy()\n",
        "ax[1].imshow(img)\n",
        "ax[1].set_title('r = epi, b = fib, g = immune')\n",
        "\n",
        "img = gray2rgb(rgb2gray(viz_mip_membrane_dapi))\n",
        "ax[2].imshow(img)\n",
        "ax[2].scatter(seg_4fov.loc[select, 'x'], seg_4fov.loc[select, 'y'], s = 0.5, \n",
        "    c = seg_4fov.loc[select,'cluster_color'])\n",
        "ax[2].set_title('scatter = baysor ncv cluster')\n",
        "\n",
        "ax[0].set_xlim(0, 5500)\n",
        "ax[0].set_ylim(5500, 0)\n",
        "ax[1].set_xlim(0, 5500)\n",
        "ax[1].set_ylim(5500, 0)\n",
        "ax[2].set_xlim(0, 5500)\n",
        "ax[2].set_ylim(5500, 0)\n",
        "\n",
        "plt.tight_layout()"
      ],
      "metadata": {
        "id": "ocSfzGTNctpa"
      },
      "execution_count": null,
      "outputs": []
    }
  ]
}